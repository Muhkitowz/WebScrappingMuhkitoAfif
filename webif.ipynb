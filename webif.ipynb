{
  "nbformat": 4,
  "nbformat_minor": 0,
  "metadata": {
    "colab": {
      "provenance": []
    },
    "kernelspec": {
      "name": "python3",
      "display_name": "Python 3"
    },
    "language_info": {
      "name": "python"
    }
  },
  "cells": [
    {
      "cell_type": "markdown",
      "source": [
        "WEB SCRAPPING\n",
        "\n",
        "NAMA : MUHKITO AFIF\n",
        "\n",
        "NPM  : 2115061007\n",
        "\n",
        "KELAS: BIG DATA"
      ],
      "metadata": {
        "id": "eDdnUP7Q0r_J"
      }
    },
    {
      "cell_type": "markdown",
      "source": [
        "**MENGINSTAL LIBRARY KEBUTUHAN WEB SCRAPPING**"
      ],
      "metadata": {
        "id": "21GG2Kdk1y4A"
      }
    },
    {
      "cell_type": "code",
      "execution_count": null,
      "metadata": {
        "colab": {
          "base_uri": "https://localhost:8080/"
        },
        "id": "v1oc8XGpgf8O",
        "outputId": "dce1c24c-4f19-4030-df8f-0fe88b0291dc"
      },
      "outputs": [
        {
          "output_type": "stream",
          "name": "stdout",
          "text": [
            "Requirement already satisfied: beautifulsoup4 in /usr/local/lib/python3.10/dist-packages (4.12.3)\n",
            "Requirement already satisfied: soupsieve>1.2 in /usr/local/lib/python3.10/dist-packages (from beautifulsoup4) (2.5)\n",
            "Requirement already satisfied: requests in /usr/local/lib/python3.10/dist-packages (2.31.0)\n",
            "Requirement already satisfied: charset-normalizer<4,>=2 in /usr/local/lib/python3.10/dist-packages (from requests) (3.3.2)\n",
            "Requirement already satisfied: idna<4,>=2.5 in /usr/local/lib/python3.10/dist-packages (from requests) (3.7)\n",
            "Requirement already satisfied: urllib3<3,>=1.21.1 in /usr/local/lib/python3.10/dist-packages (from requests) (2.0.7)\n",
            "Requirement already satisfied: certifi>=2017.4.17 in /usr/local/lib/python3.10/dist-packages (from requests) (2024.2.2)\n",
            "Requirement already satisfied: pandas in /usr/local/lib/python3.10/dist-packages (2.0.3)\n",
            "Requirement already satisfied: python-dateutil>=2.8.2 in /usr/local/lib/python3.10/dist-packages (from pandas) (2.8.2)\n",
            "Requirement already satisfied: pytz>=2020.1 in /usr/local/lib/python3.10/dist-packages (from pandas) (2023.4)\n",
            "Requirement already satisfied: tzdata>=2022.1 in /usr/local/lib/python3.10/dist-packages (from pandas) (2024.1)\n",
            "Requirement already satisfied: numpy>=1.21.0 in /usr/local/lib/python3.10/dist-packages (from pandas) (1.25.2)\n",
            "Requirement already satisfied: six>=1.5 in /usr/local/lib/python3.10/dist-packages (from python-dateutil>=2.8.2->pandas) (1.16.0)\n"
          ]
        }
      ],
      "source": [
        "%pip install beautifulsoup4\n",
        "%pip install requests\n",
        "%pip install pandas"
      ]
    },
    {
      "cell_type": "markdown",
      "source": [
        "**MENGIMPORT LIBRARY**"
      ],
      "metadata": {
        "id": "jchGJdMj2Gzz"
      }
    },
    {
      "cell_type": "code",
      "source": [
        "from bs4 import BeautifulSoup\n",
        "import requests\n",
        "import pandas as pd\n",
        "import numpy as np\n"
      ],
      "metadata": {
        "id": "hZJm-FpEg9Rd"
      },
      "execution_count": null,
      "outputs": []
    },
    {
      "cell_type": "markdown",
      "source": [
        "Mengambil Data Halaman Kategori BeritaIf pada website ifunila"
      ],
      "metadata": {
        "id": "PKjNeWFm2UXM"
      }
    },
    {
      "cell_type": "code",
      "source": [
        "url = 'https://if.unila.ac.id/category/beritaif/'\n",
        "response = requests.get(url)\n",
        "html = response.text\n",
        "soup = BeautifulSoup(html, 'html.parser')\n",
        "\n",
        "berita = soup.find_all('article')\n",
        "print (berita)\n"
      ],
      "metadata": {
        "colab": {
          "base_uri": "https://localhost:8080/"
        },
        "id": "7XB_xu_ChjuV",
        "outputId": "b909c989-da30-4996-f40d-f03d67b1f46b"
      },
      "execution_count": null,
      "outputs": [
        {
          "output_type": "stream",
          "name": "stdout",
          "text": [
            "[<article class=\"post-6342 post type-post status-publish format-standard has-post-thumbnail hentry category-direktory-mahasiswa category-beritaif category-kemahasiswaan\" id=\"post-6342\">\n",
            "<div class=\"featured-image\">\n",
            "<a href=\"https://if.unila.ac.id/mahasiswa-teknik-informatika-berhasil-menjadi-finalis-muli-mekhanai-pringsewu/\" title=\"Mahasiswa Teknik Informatika Berhasil Menjadi Finalis Muli Mekhanai Pringsewu\"><img alt=\"\" class=\"attachment-colormag-featured-image size-colormag-featured-image wp-post-image\" height=\"445\" src=\"https://if.unila.ac.id/wp-content/uploads/2024/05/klk-800x445.jpg\" width=\"800\"/></a>\n",
            "</div>\n",
            "<div class=\"article-content clearfix\">\n",
            "<div class=\"above-entry-meta\"><span class=\"cat-links\"><a href=\"https://if.unila.ac.id/category/direktory-mahasiswa/\" rel=\"category tag\">Direktori Mahasiswa</a> <a href=\"https://if.unila.ac.id/category/beritaif/\" rel=\"category tag\" style=\"background:#a33000\">Info Informatika</a> <a href=\"https://if.unila.ac.id/category/kemahasiswaan/\" rel=\"category tag\">Kemahasiswaan</a> </span></div>\n",
            "<header class=\"entry-header\">\n",
            "<h2 class=\"entry-title\">\n",
            "<a href=\"https://if.unila.ac.id/mahasiswa-teknik-informatika-berhasil-menjadi-finalis-muli-mekhanai-pringsewu/\" title=\"Mahasiswa Teknik Informatika Berhasil Menjadi Finalis Muli Mekhanai Pringsewu\">Mahasiswa Teknik Informatika Berhasil Menjadi Finalis Muli Mekhanai Pringsewu</a>\n",
            "</h2>\n",
            "</header>\n",
            "<div class=\"below-entry-meta\">\n",
            "<span class=\"posted-on\"><a href=\"https://if.unila.ac.id/mahasiswa-teknik-informatika-berhasil-menjadi-finalis-muli-mekhanai-pringsewu/\" rel=\"bookmark\" title=\"1:21 pm\"><i class=\"fa fa-calendar-o\"></i> <time class=\"entry-date published\" datetime=\"2024-05-07T13:21:12+07:00\">May 7, 2024</time><time class=\"updated\" datetime=\"2024-05-07T13:32:08+07:00\">May 7, 2024</time></a></span>\n",
            "<span class=\"byline\"><span class=\"author vcard\"><i class=\"fa fa-user\"></i><a class=\"url fn n\" href=\"https://if.unila.ac.id/author/admin/\" title=\"admin\">admin</a></span></span>\n",
            "<span class=\"comments\"><a href=\"https://if.unila.ac.id/mahasiswa-teknik-informatika-berhasil-menjadi-finalis-muli-mekhanai-pringsewu/#respond\"><i class=\"fa fa-comment\"></i> 0 Comments</a></span>\n",
            "</div>\n",
            "<div class=\"entry-content clearfix\">\n",
            "<p>Mahasiswa Teknik Informatika Unila Annisa Tri Hapsari berhasil menorehkan prestasi sebagai Grand Finalis Pemilihan Muli Mekhanai Pringsewu 2024, kegiatan pemilihan</p>\n",
            "<a class=\"more-link\" href=\"https://if.unila.ac.id/mahasiswa-teknik-informatika-berhasil-menjadi-finalis-muli-mekhanai-pringsewu/\" title=\"Mahasiswa Teknik Informatika Berhasil Menjadi Finalis Muli Mekhanai Pringsewu\"><span>Read more</span></a>\n",
            "</div>\n",
            "</div>\n",
            "</article>, <article class=\"post-6325 post type-post status-publish format-standard has-post-thumbnail hentry category-beritaif\" id=\"post-6325\">\n",
            "<div class=\"featured-image\">\n",
            "<a href=\"https://if.unila.ac.id/silaturahmi-syawal-jurusan-teknik-elektro-universitas-lampung/\" title=\"Silaturahmi Dan Halalbihalal Jurusan Teknik Elektro Universitas Lampung\"><img alt=\"\" class=\"attachment-colormag-featured-image size-colormag-featured-image wp-post-image\" height=\"445\" src=\"https://if.unila.ac.id/wp-content/uploads/2024/05/440307862_10161275590582822_2436975702772107120_n-800x445.jpg\" width=\"800\"/></a>\n",
            "</div>\n",
            "<div class=\"article-content clearfix\">\n",
            "<div class=\"above-entry-meta\"><span class=\"cat-links\"><a href=\"https://if.unila.ac.id/category/beritaif/\" rel=\"category tag\" style=\"background:#a33000\">Info Informatika</a> </span></div>\n",
            "<header class=\"entry-header\">\n",
            "<h2 class=\"entry-title\">\n",
            "<a href=\"https://if.unila.ac.id/silaturahmi-syawal-jurusan-teknik-elektro-universitas-lampung/\" title=\"Silaturahmi Dan Halalbihalal Jurusan Teknik Elektro Universitas Lampung\">Silaturahmi Dan Halalbihalal Jurusan Teknik Elektro Universitas Lampung</a>\n",
            "</h2>\n",
            "</header>\n",
            "<div class=\"below-entry-meta\">\n",
            "<span class=\"posted-on\"><a href=\"https://if.unila.ac.id/silaturahmi-syawal-jurusan-teknik-elektro-universitas-lampung/\" rel=\"bookmark\" title=\"9:12 am\"><i class=\"fa fa-calendar-o\"></i> <time class=\"entry-date published\" datetime=\"2024-05-02T09:12:26+07:00\">May 2, 2024</time><time class=\"updated\" datetime=\"2024-05-02T10:10:27+07:00\">May 2, 2024</time></a></span>\n",
            "<span class=\"byline\"><span class=\"author vcard\"><i class=\"fa fa-user\"></i><a class=\"url fn n\" href=\"https://if.unila.ac.id/author/admin/\" title=\"admin\">admin</a></span></span>\n",
            "<span class=\"comments\"><a href=\"https://if.unila.ac.id/silaturahmi-syawal-jurusan-teknik-elektro-universitas-lampung/#respond\"><i class=\"fa fa-comment\"></i> 0 Comments</a></span>\n",
            "</div>\n",
            "<div class=\"entry-content clearfix\">\n",
            "<p>Dokumentasi kegiatan silaturahmi bulan syawal Jurusan Teknik Informatika Universitas Lampung di Aula Gedung H.</p>\n",
            "<a class=\"more-link\" href=\"https://if.unila.ac.id/silaturahmi-syawal-jurusan-teknik-elektro-universitas-lampung/\" title=\"Silaturahmi Dan Halalbihalal Jurusan Teknik Elektro Universitas Lampung\"><span>Read more</span></a>\n",
            "</div>\n",
            "</div>\n",
            "</article>, <article class=\"post-6314 post type-post status-publish format-standard has-post-thumbnail hentry category-fokusif category-beritaif tag-akreditasi tag-akreditasi-teknik-informatika tag-sertifikat-akreditasi tag-teknik-informatika-unila\" id=\"post-6314\">\n",
            "<div class=\"featured-image\">\n",
            "<a href=\"https://if.unila.ac.id/program-studi-s1-teknik-informatika-universitas-lampung-memperoleh-akreditasi-baik-sekali-dari-lam-infokom/\" title=\"Program Studi S1 Teknik Informatika Universitas Lampung Memperoleh Akreditasi Baik Sekali dari LAM INFOKOM\"><img alt=\"Akreditasi Prodi Teknik Informatika\" class=\"attachment-colormag-featured-image size-colormag-featured-image wp-post-image\" height=\"445\" src=\"https://if.unila.ac.id/wp-content/uploads/2024/04/Akreditasi-Prodi-Teknik-Informatika-Unila-Baik-Sekali-800x445.jpeg\" width=\"800\"/></a>\n",
            "</div>\n",
            "<div class=\"article-content clearfix\">\n",
            "<div class=\"above-entry-meta\"><span class=\"cat-links\"><a href=\"https://if.unila.ac.id/category/fokusif/\" rel=\"category tag\">Fokus IF</a> <a href=\"https://if.unila.ac.id/category/beritaif/\" rel=\"category tag\" style=\"background:#a33000\">Info Informatika</a> </span></div>\n",
            "<header class=\"entry-header\">\n",
            "<h2 class=\"entry-title\">\n",
            "<a href=\"https://if.unila.ac.id/program-studi-s1-teknik-informatika-universitas-lampung-memperoleh-akreditasi-baik-sekali-dari-lam-infokom/\" title=\"Program Studi S1 Teknik Informatika Universitas Lampung Memperoleh Akreditasi Baik Sekali dari LAM INFOKOM\">Program Studi S1 Teknik Informatika Universitas Lampung Memperoleh Akreditasi Baik Sekali dari LAM INFOKOM</a>\n",
            "</h2>\n",
            "</header>\n",
            "<div class=\"below-entry-meta\">\n",
            "<span class=\"posted-on\"><a href=\"https://if.unila.ac.id/program-studi-s1-teknik-informatika-universitas-lampung-memperoleh-akreditasi-baik-sekali-dari-lam-infokom/\" rel=\"bookmark\" title=\"9:08 pm\"><i class=\"fa fa-calendar-o\"></i> <time class=\"entry-date published\" datetime=\"2024-04-06T21:08:31+07:00\">April 6, 2024</time><time class=\"updated\" datetime=\"2024-04-18T06:04:49+07:00\">April 18, 2024</time></a></span>\n",
            "<span class=\"byline\"><span class=\"author vcard\"><i class=\"fa fa-user\"></i><a class=\"url fn n\" href=\"https://if.unila.ac.id/author/rio/\" title=\"Rio Ariestia Pradipta\">Rio Ariestia Pradipta</a></span></span>\n",
            "<span class=\"comments\"><a href=\"https://if.unila.ac.id/program-studi-s1-teknik-informatika-universitas-lampung-memperoleh-akreditasi-baik-sekali-dari-lam-infokom/#respond\"><i class=\"fa fa-comment\"></i> 0 Comments</a></span>\n",
            "<span class=\"tag-links\"><i class=\"fa fa-tags\"></i><a href=\"https://if.unila.ac.id/tag/akreditasi/\" rel=\"tag\">Akreditasi</a>, <a href=\"https://if.unila.ac.id/tag/akreditasi-teknik-informatika/\" rel=\"tag\">Akreditasi Teknik Informatika</a>, <a href=\"https://if.unila.ac.id/tag/sertifikat-akreditasi/\" rel=\"tag\">Sertifikat Akreditasi</a>, <a href=\"https://if.unila.ac.id/tag/teknik-informatika-unila/\" rel=\"tag\">teknik informatika unila</a></span></div>\n",
            "<div class=\"entry-content clearfix\">\n",
            "<p>Program Studi S1 Teknik Informatika Universitas Lampung memperoleh akreditasi Baik Sekali dari Lembaga Akreditasi Mandiri Informatika dan Komputer (LAM INFOKOM).</p>\n",
            "<a class=\"more-link\" href=\"https://if.unila.ac.id/program-studi-s1-teknik-informatika-universitas-lampung-memperoleh-akreditasi-baik-sekali-dari-lam-infokom/\" title=\"Program Studi S1 Teknik Informatika Universitas Lampung Memperoleh Akreditasi Baik Sekali dari LAM INFOKOM\"><span>Read more</span></a>\n",
            "</div>\n",
            "</div>\n",
            "</article>, <article class=\"post-6321 post type-post status-publish format-standard has-post-thumbnail hentry category-fokusif category-infobeasiswa category-beritaif category-kemahasiswaan\" id=\"post-6321\">\n",
            "<div class=\"featured-image\">\n",
            "<a href=\"https://if.unila.ac.id/mahasiswa-teknik-informatika-unila-berhasil-lolos-seleksi-beasiswa-bank-indonesia-periode-tahun-2024/\" title=\"Mahasiswa Teknik Informatika Unila Berhasil Lolos Seleksi Beasiswa Bank Indonesia periode tahun 2024\"><img alt=\"\" class=\"attachment-colormag-featured-image size-colormag-featured-image wp-post-image\" height=\"445\" src=\"https://if.unila.ac.id/wp-content/uploads/2024/04/BI-597x445.jpg\" width=\"597\"/></a>\n",
            "</div>\n",
            "<div class=\"article-content clearfix\">\n",
            "<div class=\"above-entry-meta\"><span class=\"cat-links\"><a href=\"https://if.unila.ac.id/category/fokusif/\" rel=\"category tag\">Fokus IF</a> <a href=\"https://if.unila.ac.id/category/infobeasiswa/\" rel=\"category tag\">Info Beasiswa</a> <a href=\"https://if.unila.ac.id/category/beritaif/\" rel=\"category tag\" style=\"background:#a33000\">Info Informatika</a> <a href=\"https://if.unila.ac.id/category/kemahasiswaan/\" rel=\"category tag\">Kemahasiswaan</a> </span></div>\n",
            "<header class=\"entry-header\">\n",
            "<h2 class=\"entry-title\">\n",
            "<a href=\"https://if.unila.ac.id/mahasiswa-teknik-informatika-unila-berhasil-lolos-seleksi-beasiswa-bank-indonesia-periode-tahun-2024/\" title=\"Mahasiswa Teknik Informatika Unila Berhasil Lolos Seleksi Beasiswa Bank Indonesia periode tahun 2024\">Mahasiswa Teknik Informatika Unila Berhasil Lolos Seleksi Beasiswa Bank Indonesia periode tahun 2024</a>\n",
            "</h2>\n",
            "</header>\n",
            "<div class=\"below-entry-meta\">\n",
            "<span class=\"posted-on\"><a href=\"https://if.unila.ac.id/mahasiswa-teknik-informatika-unila-berhasil-lolos-seleksi-beasiswa-bank-indonesia-periode-tahun-2024/\" rel=\"bookmark\" title=\"5:59 am\"><i class=\"fa fa-calendar-o\"></i> <time class=\"entry-date published\" datetime=\"2024-04-04T05:59:46+07:00\">April 4, 2024</time><time class=\"updated\" datetime=\"2024-04-18T06:15:23+07:00\">April 18, 2024</time></a></span>\n",
            "<span class=\"byline\"><span class=\"author vcard\"><i class=\"fa fa-user\"></i><a class=\"url fn n\" href=\"https://if.unila.ac.id/author/admin/\" title=\"admin\">admin</a></span></span>\n",
            "<span class=\"comments\"><a href=\"https://if.unila.ac.id/mahasiswa-teknik-informatika-unila-berhasil-lolos-seleksi-beasiswa-bank-indonesia-periode-tahun-2024/#respond\"><i class=\"fa fa-comment\"></i> 0 Comments</a></span>\n",
            "</div>\n",
            "<div class=\"entry-content clearfix\">\n",
            "<p>Pimpinan dan civitas akademika PSTI Unila mengucapkan selamat kepada mahasiswa yang sudah lolos kompetisi dan berhak mendapatkan beasiswa Bank Indonesia</p>\n",
            "<a class=\"more-link\" href=\"https://if.unila.ac.id/mahasiswa-teknik-informatika-unila-berhasil-lolos-seleksi-beasiswa-bank-indonesia-periode-tahun-2024/\" title=\"Mahasiswa Teknik Informatika Unila Berhasil Lolos Seleksi Beasiswa Bank Indonesia periode tahun 2024\"><span>Read more</span></a>\n",
            "</div>\n",
            "</div>\n",
            "</article>, <article class=\"post-6304 post type-post status-publish format-standard has-post-thumbnail hentry category-fokusif category-beritaif category-kemahasiswaan\" id=\"post-6304\">\n",
            "<div class=\"featured-image\">\n",
            "<a href=\"https://if.unila.ac.id/aldo-wijaya-mahasiswa-teknik-informatika-sabet-lulusan-terbaik-i-tingkat-universitas/\" title=\"Aldo Wijaya Mahasiswa Teknik Informatika Sabet Lulusan Terbaik I Tingkat Universitas\"><img alt=\"\" class=\"attachment-colormag-featured-image size-colormag-featured-image wp-post-image\" height=\"445\" src=\"https://if.unila.ac.id/wp-content/uploads/2024/03/IMG_20240311_083130-800x445.jpg\" width=\"800\"/></a>\n",
            "</div>\n",
            "<div class=\"article-content clearfix\">\n",
            "<div class=\"above-entry-meta\"><span class=\"cat-links\"><a href=\"https://if.unila.ac.id/category/fokusif/\" rel=\"category tag\">Fokus IF</a> <a href=\"https://if.unila.ac.id/category/beritaif/\" rel=\"category tag\" style=\"background:#a33000\">Info Informatika</a> <a href=\"https://if.unila.ac.id/category/kemahasiswaan/\" rel=\"category tag\">Kemahasiswaan</a> </span></div>\n",
            "<header class=\"entry-header\">\n",
            "<h2 class=\"entry-title\">\n",
            "<a href=\"https://if.unila.ac.id/aldo-wijaya-mahasiswa-teknik-informatika-sabet-lulusan-terbaik-i-tingkat-universitas/\" title=\"Aldo Wijaya Mahasiswa Teknik Informatika Sabet Lulusan Terbaik I Tingkat Universitas\">Aldo Wijaya Mahasiswa Teknik Informatika Sabet Lulusan Terbaik I Tingkat Universitas</a>\n",
            "</h2>\n",
            "</header>\n",
            "<div class=\"below-entry-meta\">\n",
            "<span class=\"posted-on\"><a href=\"https://if.unila.ac.id/aldo-wijaya-mahasiswa-teknik-informatika-sabet-lulusan-terbaik-i-tingkat-universitas/\" rel=\"bookmark\" title=\"8:34 am\"><i class=\"fa fa-calendar-o\"></i> <time class=\"entry-date published\" datetime=\"2024-03-11T08:34:34+07:00\">March 11, 2024</time><time class=\"updated\" datetime=\"2024-03-11T08:36:29+07:00\">March 11, 2024</time></a></span>\n",
            "<span class=\"byline\"><span class=\"author vcard\"><i class=\"fa fa-user\"></i><a class=\"url fn n\" href=\"https://if.unila.ac.id/author/admin/\" title=\"admin\">admin</a></span></span>\n",
            "<span class=\"comments\"><a href=\"https://if.unila.ac.id/aldo-wijaya-mahasiswa-teknik-informatika-sabet-lulusan-terbaik-i-tingkat-universitas/#respond\"><i class=\"fa fa-comment\"></i> 0 Comments</a></span>\n",
            "</div>\n",
            "<div class=\"entry-content clearfix\">\n",
            "<p>(Unila): Kerja keras, doa, dan sikap tekun, serta berani menerima tantangan merupakan faktor-faktor pembuka jalan menuju keberhasilan. Hal tersebut menjadi</p>\n",
            "<a class=\"more-link\" href=\"https://if.unila.ac.id/aldo-wijaya-mahasiswa-teknik-informatika-sabet-lulusan-terbaik-i-tingkat-universitas/\" title=\"Aldo Wijaya Mahasiswa Teknik Informatika Sabet Lulusan Terbaik I Tingkat Universitas\"><span>Read more</span></a>\n",
            "</div>\n",
            "</div>\n",
            "</article>, <article class=\"post-6114 post type-post status-publish format-standard has-post-thumbnail hentry category-akademik category-fokusif category-beritaif\" id=\"post-6114\">\n",
            "<div class=\"featured-image\">\n",
            "<a href=\"https://if.unila.ac.id/pekan-kuliah-perdana-ps-teknik-informatika-semester-genap-2023-2024/\" title=\"Pekan Kuliah Perdana PS Teknik Informatika Semester Genap 2023/2024\"><img alt=\"\" class=\"attachment-colormag-featured-image size-colormag-featured-image wp-post-image\" height=\"445\" src=\"https://if.unila.ac.id/wp-content/uploads/2024/02/WhatsApp-Image-2024-02-19-at-11.07.42_f9406060-800x445.jpg\" width=\"800\"/></a>\n",
            "</div>\n",
            "<div class=\"article-content clearfix\">\n",
            "<div class=\"above-entry-meta\"><span class=\"cat-links\"><a href=\"https://if.unila.ac.id/category/akademik/\" rel=\"category tag\">Akademik</a> <a href=\"https://if.unila.ac.id/category/fokusif/\" rel=\"category tag\">Fokus IF</a> <a href=\"https://if.unila.ac.id/category/beritaif/\" rel=\"category tag\" style=\"background:#a33000\">Info Informatika</a> </span></div>\n",
            "<header class=\"entry-header\">\n",
            "<h2 class=\"entry-title\">\n",
            "<a href=\"https://if.unila.ac.id/pekan-kuliah-perdana-ps-teknik-informatika-semester-genap-2023-2024/\" title=\"Pekan Kuliah Perdana PS Teknik Informatika Semester Genap 2023/2024\">Pekan Kuliah Perdana PS Teknik Informatika Semester Genap 2023/2024</a>\n",
            "</h2>\n",
            "</header>\n",
            "<div class=\"below-entry-meta\">\n",
            "<span class=\"posted-on\"><a href=\"https://if.unila.ac.id/pekan-kuliah-perdana-ps-teknik-informatika-semester-genap-2023-2024/\" rel=\"bookmark\" title=\"6:22 am\"><i class=\"fa fa-calendar-o\"></i> <time class=\"entry-date published\" datetime=\"2024-02-22T06:22:34+07:00\">February 22, 2024</time><time class=\"updated\" datetime=\"2024-02-22T06:35:30+07:00\">February 22, 2024</time></a></span>\n",
            "<span class=\"byline\"><span class=\"author vcard\"><i class=\"fa fa-user\"></i><a class=\"url fn n\" href=\"https://if.unila.ac.id/author/admin/\" title=\"admin\">admin</a></span></span>\n",
            "<span class=\"comments\"><a href=\"https://if.unila.ac.id/pekan-kuliah-perdana-ps-teknik-informatika-semester-genap-2023-2024/#respond\"><i class=\"fa fa-comment\"></i> 0 Comments</a></span>\n",
            "</div>\n",
            "<div class=\"entry-content clearfix\">\n",
            "<p>Minggu ini adalah pekan pertama kegiatan perkuliahan semester genap tahun akademik 2023/2024, kegiatan perkuliahan tatap muka diselenggarakan secara langsung/offline berlangsung</p>\n",
            "<a class=\"more-link\" href=\"https://if.unila.ac.id/pekan-kuliah-perdana-ps-teknik-informatika-semester-genap-2023-2024/\" title=\"Pekan Kuliah Perdana PS Teknik Informatika Semester Genap 2023/2024\"><span>Read more</span></a>\n",
            "</div>\n",
            "</div>\n",
            "</article>, <article class=\"post-6253 post type-post status-publish format-standard has-post-thumbnail hentry category-beritaif category-kemahasiswaan\" id=\"post-6253\">\n",
            "<div class=\"featured-image\">\n",
            "<a href=\"https://if.unila.ac.id/pelatihan-flutter-laravel-program-studi-teknik-informatika-unila/\" title=\"Pelatihan Flutter &amp; Laravel Program Studi Teknik Informatika Unila\"><img alt=\"\" class=\"attachment-colormag-featured-image size-colormag-featured-image wp-post-image\" height=\"445\" src=\"https://if.unila.ac.id/wp-content/uploads/2024/02/13-800x445.jpg\" width=\"800\"/></a>\n",
            "</div>\n",
            "<div class=\"article-content clearfix\">\n",
            "<div class=\"above-entry-meta\"><span class=\"cat-links\"><a href=\"https://if.unila.ac.id/category/beritaif/\" rel=\"category tag\" style=\"background:#a33000\">Info Informatika</a> <a href=\"https://if.unila.ac.id/category/kemahasiswaan/\" rel=\"category tag\">Kemahasiswaan</a> </span></div>\n",
            "<header class=\"entry-header\">\n",
            "<h2 class=\"entry-title\">\n",
            "<a href=\"https://if.unila.ac.id/pelatihan-flutter-laravel-program-studi-teknik-informatika-unila/\" title=\"Pelatihan Flutter &amp; Laravel Program Studi Teknik Informatika Unila\">Pelatihan Flutter &amp; Laravel Program Studi Teknik Informatika Unila</a>\n",
            "</h2>\n",
            "</header>\n",
            "<div class=\"below-entry-meta\">\n",
            "<span class=\"posted-on\"><a href=\"https://if.unila.ac.id/pelatihan-flutter-laravel-program-studi-teknik-informatika-unila/\" rel=\"bookmark\" title=\"8:06 am\"><i class=\"fa fa-calendar-o\"></i> <time class=\"entry-date published\" datetime=\"2024-02-14T08:06:33+07:00\">February 14, 2024</time><time class=\"updated\" datetime=\"2024-02-29T08:18:40+07:00\">February 29, 2024</time></a></span>\n",
            "<span class=\"byline\"><span class=\"author vcard\"><i class=\"fa fa-user\"></i><a class=\"url fn n\" href=\"https://if.unila.ac.id/author/admin/\" title=\"admin\">admin</a></span></span>\n",
            "<span class=\"comments\"><a href=\"https://if.unila.ac.id/pelatihan-flutter-laravel-program-studi-teknik-informatika-unila/#respond\"><i class=\"fa fa-comment\"></i> 0 Comments</a></span>\n",
            "</div>\n",
            "<div class=\"entry-content clearfix\">\n",
            "<p>Pelatihan Flutter &amp; Laravel merupakan pelatihan yang bertujuan untuk melatih mahasiswa mengenai pembuatan sebuah aplikasi menggunakan framework Flutter dan Laravel.</p>\n",
            "<a class=\"more-link\" href=\"https://if.unila.ac.id/pelatihan-flutter-laravel-program-studi-teknik-informatika-unila/\" title=\"Pelatihan Flutter &amp; Laravel Program Studi Teknik Informatika Unila\"><span>Read more</span></a>\n",
            "</div>\n",
            "</div>\n",
            "</article>, <article class=\"post-6148 post type-post status-publish format-standard has-post-thumbnail hentry category-beritaif category-kemahasiswaan\" id=\"post-6148\">\n",
            "<div class=\"featured-image\">\n",
            "<a href=\"https://if.unila.ac.id/arsip-mahasiswa-kompre-ganjil-2023-2024/\" title=\"Arsip Mahasiswa Kompre Ganjil 2023/2024\"><img alt=\"\" class=\"attachment-colormag-featured-image size-colormag-featured-image wp-post-image\" height=\"445\" src=\"https://if.unila.ac.id/wp-content/uploads/2024/02/cover-berita-729x445.png\" width=\"729\"/></a>\n",
            "</div>\n",
            "<div class=\"article-content clearfix\">\n",
            "<div class=\"above-entry-meta\"><span class=\"cat-links\"><a href=\"https://if.unila.ac.id/category/beritaif/\" rel=\"category tag\" style=\"background:#a33000\">Info Informatika</a> <a href=\"https://if.unila.ac.id/category/kemahasiswaan/\" rel=\"category tag\">Kemahasiswaan</a> </span></div>\n",
            "<header class=\"entry-header\">\n",
            "<h2 class=\"entry-title\">\n",
            "<a href=\"https://if.unila.ac.id/arsip-mahasiswa-kompre-ganjil-2023-2024/\" title=\"Arsip Mahasiswa Kompre Ganjil 2023/2024\">Arsip Mahasiswa Kompre Ganjil 2023/2024</a>\n",
            "</h2>\n",
            "</header>\n",
            "<div class=\"below-entry-meta\">\n",
            "<span class=\"posted-on\"><a href=\"https://if.unila.ac.id/arsip-mahasiswa-kompre-ganjil-2023-2024/\" rel=\"bookmark\" title=\"8:11 am\"><i class=\"fa fa-calendar-o\"></i> <time class=\"entry-date published\" datetime=\"2024-02-12T08:11:25+07:00\">February 12, 2024</time><time class=\"updated\" datetime=\"2024-02-22T21:33:48+07:00\">February 22, 2024</time></a></span>\n",
            "<span class=\"byline\"><span class=\"author vcard\"><i class=\"fa fa-user\"></i><a class=\"url fn n\" href=\"https://if.unila.ac.id/author/redaksi/\" title=\"Redaksi Informatika\">Redaksi Informatika</a></span></span>\n",
            "<span class=\"comments\"><a href=\"https://if.unila.ac.id/arsip-mahasiswa-kompre-ganjil-2023-2024/#respond\"><i class=\"fa fa-comment\"></i> 0 Comments</a></span>\n",
            "</div>\n",
            "<div class=\"entry-content clearfix\">\n",
            "<a class=\"more-link\" href=\"https://if.unila.ac.id/arsip-mahasiswa-kompre-ganjil-2023-2024/\" title=\"Arsip Mahasiswa Kompre Ganjil 2023/2024\"><span>Read more</span></a>\n",
            "</div>\n",
            "</div>\n",
            "</article>, <article class=\"post-5392 post type-post status-publish format-gallery has-post-thumbnail hentry category-aktifitas-dosen category-beritaif category-pengabdiandosen post_format-post-format-gallery\" id=\"post-5392\">\n",
            "<div class=\"featured-image\">\n",
            "<a href=\"https://if.unila.ac.id/kegiatan-pengabdian-kepada-masyarakat-di-sman-1-kalianda-lampung-selatan/\" title=\"Kegiatan Pengabdian Kepada Masyarakat di SMAN 1 Kalianda Lampung Selatan\"><img alt=\"\" class=\"attachment-colormag-featured-image size-colormag-featured-image wp-post-image\" height=\"445\" src=\"https://if.unila.ac.id/wp-content/uploads/2023/09/375829179_10160901187022822_4131821342248697893_n-800x445.jpg\" width=\"800\"/></a>\n",
            "</div>\n",
            "<div class=\"article-content clearfix\">\n",
            "<div class=\"gallery-post-format\">\n",
            "<ul class=\"gallery-images\"><li><img src=\"https://if.unila.ac.id/wp-content/uploads/2023/09/373836976_10160900823137822_389699607775379208_n-1024x461.jpg\"/></li><li><img src=\"https://if.unila.ac.id/wp-content/uploads/2023/09/374580600_10160900819217822_7432924580228027420_n-1-1024x461.jpg\"/></li><li><img src=\"https://if.unila.ac.id/wp-content/uploads/2023/09/374580600_10160900819217822_7432924580228027420_n-1024x461.jpg\"/></li><li><img src=\"https://if.unila.ac.id/wp-content/uploads/2023/09/374637400_10160900822852822_6202959282670649868_n-1024x461.jpg\"/></li><li><img src=\"https://if.unila.ac.id/wp-content/uploads/2023/09/375020685_10160901186872822_3017656881263085555_n-1024x576.jpg\"/></li><li><img src=\"https://if.unila.ac.id/wp-content/uploads/2023/09/375057476_10160900823072822_3352000502505704840_n-1024x461.jpg\"/></li><li><img src=\"https://if.unila.ac.id/wp-content/uploads/2023/09/375062516_10160901186927822_752480425896667761_n-1024x576.jpg\"/></li><li><img src=\"https://if.unila.ac.id/wp-content/uploads/2023/09/375071369_10160901187112822_3267454964582829900_n-1024x576.jpg\"/></li><li><img src=\"https://if.unila.ac.id/wp-content/uploads/2023/09/375071379_10160901186992822_5594845269029396441_n-1024x576.jpg\"/></li><li><img src=\"https://if.unila.ac.id/wp-content/uploads/2023/09/375297206_10160900822637822_3484923426466264050_n-1024x462.jpg\"/></li><li><img src=\"https://if.unila.ac.id/wp-content/uploads/2023/09/375325950_10160901244652822_8693739345637177093_n-1024x692.jpg\"/></li><li><img src=\"https://if.unila.ac.id/wp-content/uploads/2023/09/375330157_10160900820137822_1478548312653997620_n-1024x461.jpg\"/></li><li><img src=\"https://if.unila.ac.id/wp-content/uploads/2023/09/375331028_10160900822912822_2033776979040892386_n-1024x461.jpg\"/></li><li><img src=\"https://if.unila.ac.id/wp-content/uploads/2023/09/375578778_10160900823487822_1275004126996176393_n-1024x461.jpg\"/></li><li><img src=\"https://if.unila.ac.id/wp-content/uploads/2023/09/375602604_10160900823177822_6863585968494160092_n-1024x462.jpg\"/></li><li><img src=\"https://if.unila.ac.id/wp-content/uploads/2023/09/375829179_10160901187022822_4131821342248697893_n-1024x576.jpg\"/></li><li><img src=\"https://if.unila.ac.id/wp-content/uploads/2023/09/375867428_10160900935042822_4235834346518531883_n-1024x663.jpg\"/></li></ul> </div>\n",
            "<div class=\"above-entry-meta\"><span class=\"cat-links\"><a href=\"https://if.unila.ac.id/category/aktifitas-dosen/\" rel=\"category tag\">Aktifitas Dosen</a> <a href=\"https://if.unila.ac.id/category/beritaif/\" rel=\"category tag\" style=\"background:#a33000\">Info Informatika</a> <a href=\"https://if.unila.ac.id/category/pengabdiandosen/\" rel=\"category tag\">Pengabdian Dosen</a> </span></div>\n",
            "<header class=\"entry-header\">\n",
            "<h2 class=\"entry-title\">\n",
            "<a href=\"https://if.unila.ac.id/kegiatan-pengabdian-kepada-masyarakat-di-sman-1-kalianda-lampung-selatan/\" title=\"Kegiatan Pengabdian Kepada Masyarakat di SMAN 1 Kalianda Lampung Selatan\">Kegiatan Pengabdian Kepada Masyarakat di SMAN 1 Kalianda Lampung Selatan</a>\n",
            "</h2>\n",
            "</header>\n",
            "<div class=\"below-entry-meta\">\n",
            "<span class=\"posted-on\"><a href=\"https://if.unila.ac.id/kegiatan-pengabdian-kepada-masyarakat-di-sman-1-kalianda-lampung-selatan/\" rel=\"bookmark\" title=\"9:28 am\"><i class=\"fa fa-calendar-o\"></i> <time class=\"entry-date published\" datetime=\"2023-09-14T09:28:00+07:00\">September 14, 2023</time><time class=\"updated\" datetime=\"2023-09-14T09:29:19+07:00\">September 14, 2023</time></a></span>\n",
            "<span class=\"byline\"><span class=\"author vcard\"><i class=\"fa fa-user\"></i><a class=\"url fn n\" href=\"https://if.unila.ac.id/author/admin/\" title=\"admin\">admin</a></span></span>\n",
            "<span class=\"comments\"><a href=\"https://if.unila.ac.id/kegiatan-pengabdian-kepada-masyarakat-di-sman-1-kalianda-lampung-selatan/#respond\"><i class=\"fa fa-comment\"></i> 0 Comments</a></span>\n",
            "</div>\n",
            "<div class=\"entry-content clearfix\">\n",
            "<p>ada tanggal 8 September 2023, berlangsung kegiatan pengabdian kepada masyarakat yang mengusung tema “Peningkatan Kemampuan Penerapan Algoritma Komputer Peserta Didik</p>\n",
            "<a class=\"more-link\" href=\"https://if.unila.ac.id/kegiatan-pengabdian-kepada-masyarakat-di-sman-1-kalianda-lampung-selatan/\" title=\"Kegiatan Pengabdian Kepada Masyarakat di SMAN 1 Kalianda Lampung Selatan\"><span>Read more</span></a>\n",
            "</div>\n",
            "</div>\n",
            "</article>]\n"
          ]
        }
      ]
    },
    {
      "cell_type": "markdown",
      "source": [
        "Mengambil Data Judul pada artikel"
      ],
      "metadata": {
        "id": "WX41lPj02fti"
      }
    },
    {
      "cell_type": "code",
      "source": [
        "judul = []\n",
        "for article in berita:\n",
        "        element_judul = article.find('h2', class_='entry-title')\n",
        "        judul.append(element_judul.text.strip())\n",
        "\n",
        "print(f\"Judul: {judul}\")"
      ],
      "metadata": {
        "colab": {
          "base_uri": "https://localhost:8080/"
        },
        "id": "rT2HWT-nh6lO",
        "outputId": "7d0ed7b8-908f-44c7-b4e0-92378533e96f"
      },
      "execution_count": null,
      "outputs": [
        {
          "output_type": "stream",
          "name": "stdout",
          "text": [
            "Judul: ['Mahasiswa Teknik Informatika Berhasil Menjadi Finalis Muli Mekhanai Pringsewu', 'Silaturahmi Dan Halalbihalal Jurusan Teknik Elektro Universitas Lampung', 'Program Studi S1 Teknik Informatika Universitas Lampung Memperoleh Akreditasi Baik Sekali dari LAM INFOKOM', 'Mahasiswa Teknik Informatika Unila Berhasil Lolos Seleksi Beasiswa Bank Indonesia periode tahun 2024', 'Aldo Wijaya Mahasiswa Teknik Informatika Sabet Lulusan Terbaik I Tingkat Universitas', 'Pekan Kuliah Perdana PS Teknik Informatika Semester Genap 2023/2024', 'Pelatihan Flutter & Laravel Program Studi Teknik Informatika Unila', 'Arsip Mahasiswa Kompre Ganjil 2023/2024', 'Kegiatan Pengabdian Kepada Masyarakat di SMAN 1 Kalianda Lampung Selatan']\n"
          ]
        }
      ]
    },
    {
      "cell_type": "markdown",
      "source": [
        "Mengambil Data Tanggal Pada Artikel"
      ],
      "metadata": {
        "id": "etKjtDtK2sYk"
      }
    },
    {
      "cell_type": "code",
      "source": [
        " tanggal = []\n",
        " for article in berita:\n",
        "        element_tanggal = article.find('time', class_='entry-date')\n",
        "        tanggal.append(element_tanggal.text.strip())\n",
        "\n",
        "print(f\"Tanggal: {tanggal}\")"
      ],
      "metadata": {
        "colab": {
          "base_uri": "https://localhost:8080/"
        },
        "id": "tVUAc7V_iPt5",
        "outputId": "5e68c402-7049-4fa2-c8ad-13f7d5f9ec1f"
      },
      "execution_count": null,
      "outputs": [
        {
          "output_type": "stream",
          "name": "stdout",
          "text": [
            "Tanggal: ['May 7, 2024', 'May 2, 2024', 'April 6, 2024', 'April 4, 2024', 'March 11, 2024', 'February 22, 2024', 'February 14, 2024', 'February 12, 2024', 'September 14, 2023']\n"
          ]
        }
      ]
    },
    {
      "cell_type": "markdown",
      "source": [
        "Mengambil Data Konten Pada Artikel"
      ],
      "metadata": {
        "id": "rTc7hzLJ20Ki"
      }
    },
    {
      "cell_type": "code",
      "source": [
        "konten = []\n",
        "for article in berita:\n",
        "        element_content = article.find('div', class_='entry-content')\n",
        "        konten.append(element_content.text.strip())\n",
        "\n",
        "print(f\"Konten: {konten}\")"
      ],
      "metadata": {
        "colab": {
          "base_uri": "https://localhost:8080/"
        },
        "id": "N1wFLSDtijXo",
        "outputId": "5671a64f-12fa-4a92-8078-ee7e2b40ce64"
      },
      "execution_count": null,
      "outputs": [
        {
          "output_type": "stream",
          "name": "stdout",
          "text": [
            "Konten: ['Mahasiswa Teknik Informatika Unila Annisa Tri Hapsari berhasil menorehkan prestasi sebagai Grand Finalis Pemilihan Muli Mekhanai Pringsewu 2024, kegiatan pemilihan\\nRead more', 'Dokumentasi kegiatan silaturahmi bulan syawal Jurusan Teknik Informatika Universitas Lampung di Aula Gedung H.\\nRead more', 'Program Studi S1 Teknik Informatika Universitas Lampung memperoleh akreditasi Baik Sekali dari Lembaga Akreditasi Mandiri Informatika dan Komputer (LAM INFOKOM).\\nRead more', 'Pimpinan dan civitas akademika PSTI Unila mengucapkan selamat kepada mahasiswa yang sudah lolos kompetisi dan berhak mendapatkan beasiswa Bank Indonesia\\nRead more', '(Unila): Kerja keras, doa, dan sikap tekun, serta berani menerima tantangan merupakan faktor-faktor pembuka jalan menuju keberhasilan. Hal tersebut menjadi\\nRead more', 'Minggu ini adalah pekan pertama kegiatan perkuliahan semester genap tahun akademik 2023/2024, kegiatan perkuliahan tatap muka diselenggarakan secara langsung/offline berlangsung\\nRead more', 'Pelatihan Flutter & Laravel merupakan pelatihan yang bertujuan untuk melatih mahasiswa mengenai pembuatan sebuah aplikasi menggunakan framework Flutter dan Laravel.\\nRead more', 'Read more', 'ada tanggal 8 September 2023, berlangsung kegiatan pengabdian kepada masyarakat yang mengusung tema “Peningkatan Kemampuan Penerapan Algoritma Komputer Peserta Didik\\nRead more']\n"
          ]
        }
      ]
    },
    {
      "cell_type": "markdown",
      "source": [
        "Menampilkan Data Web Scrapping"
      ],
      "metadata": {
        "id": "NOdEnwuB3Di4"
      }
    },
    {
      "cell_type": "code",
      "source": [
        "table = {'Judul': judul,\n",
        "         'Tanggal': tanggal,\n",
        "         'Konten': konten,}\n",
        "df = pd.DataFrame(table)\n",
        "df.style.hide()"
      ],
      "metadata": {
        "colab": {
          "base_uri": "https://localhost:8080/",
          "height": 487
        },
        "id": "tvCgkKaEi8fO",
        "outputId": "4d025288-bd88-4fa9-dc1b-a4df88a6ac6b"
      },
      "execution_count": null,
      "outputs": [
        {
          "output_type": "execute_result",
          "data": {
            "text/plain": [
              "<pandas.io.formats.style.Styler at 0x7acb6b2fe2c0>"
            ],
            "text/html": [
              "<style type=\"text/css\">\n",
              "</style>\n",
              "<table id=\"T_b914e\" class=\"dataframe\">\n",
              "  <thead>\n",
              "    <tr>\n",
              "      <th id=\"T_b914e_level0_col0\" class=\"col_heading level0 col0\" >Judul</th>\n",
              "      <th id=\"T_b914e_level0_col1\" class=\"col_heading level0 col1\" >Tanggal</th>\n",
              "      <th id=\"T_b914e_level0_col2\" class=\"col_heading level0 col2\" >Konten</th>\n",
              "    </tr>\n",
              "  </thead>\n",
              "  <tbody>\n",
              "    <tr>\n",
              "      <td id=\"T_b914e_row0_col0\" class=\"data row0 col0\" >Mahasiswa Teknik Informatika Berhasil Menjadi Finalis Muli Mekhanai Pringsewu</td>\n",
              "      <td id=\"T_b914e_row0_col1\" class=\"data row0 col1\" >May 7, 2024</td>\n",
              "      <td id=\"T_b914e_row0_col2\" class=\"data row0 col2\" >Mahasiswa Teknik Informatika Unila Annisa Tri Hapsari berhasil menorehkan prestasi sebagai Grand Finalis Pemilihan Muli Mekhanai Pringsewu 2024, kegiatan pemilihan\n",
              "Read more</td>\n",
              "    </tr>\n",
              "    <tr>\n",
              "      <td id=\"T_b914e_row1_col0\" class=\"data row1 col0\" >Silaturahmi Dan Halalbihalal Jurusan Teknik Elektro Universitas Lampung</td>\n",
              "      <td id=\"T_b914e_row1_col1\" class=\"data row1 col1\" >May 2, 2024</td>\n",
              "      <td id=\"T_b914e_row1_col2\" class=\"data row1 col2\" >Dokumentasi kegiatan silaturahmi bulan syawal Jurusan Teknik Informatika Universitas Lampung di Aula Gedung H.\n",
              "Read more</td>\n",
              "    </tr>\n",
              "    <tr>\n",
              "      <td id=\"T_b914e_row2_col0\" class=\"data row2 col0\" >Program Studi S1 Teknik Informatika Universitas Lampung Memperoleh Akreditasi Baik Sekali dari LAM INFOKOM</td>\n",
              "      <td id=\"T_b914e_row2_col1\" class=\"data row2 col1\" >April 6, 2024</td>\n",
              "      <td id=\"T_b914e_row2_col2\" class=\"data row2 col2\" >Program Studi S1 Teknik Informatika Universitas Lampung memperoleh akreditasi Baik Sekali dari Lembaga Akreditasi Mandiri Informatika dan Komputer (LAM INFOKOM).\n",
              "Read more</td>\n",
              "    </tr>\n",
              "    <tr>\n",
              "      <td id=\"T_b914e_row3_col0\" class=\"data row3 col0\" >Mahasiswa Teknik Informatika Unila Berhasil Lolos Seleksi Beasiswa Bank Indonesia periode tahun 2024</td>\n",
              "      <td id=\"T_b914e_row3_col1\" class=\"data row3 col1\" >April 4, 2024</td>\n",
              "      <td id=\"T_b914e_row3_col2\" class=\"data row3 col2\" >Pimpinan dan civitas akademika PSTI Unila mengucapkan selamat kepada mahasiswa yang sudah lolos kompetisi dan berhak mendapatkan beasiswa Bank Indonesia\n",
              "Read more</td>\n",
              "    </tr>\n",
              "    <tr>\n",
              "      <td id=\"T_b914e_row4_col0\" class=\"data row4 col0\" >Aldo Wijaya Mahasiswa Teknik Informatika Sabet Lulusan Terbaik I Tingkat Universitas</td>\n",
              "      <td id=\"T_b914e_row4_col1\" class=\"data row4 col1\" >March 11, 2024</td>\n",
              "      <td id=\"T_b914e_row4_col2\" class=\"data row4 col2\" >(Unila): Kerja keras, doa, dan sikap tekun, serta berani menerima tantangan merupakan faktor-faktor pembuka jalan menuju keberhasilan. Hal tersebut menjadi\n",
              "Read more</td>\n",
              "    </tr>\n",
              "    <tr>\n",
              "      <td id=\"T_b914e_row5_col0\" class=\"data row5 col0\" >Pekan Kuliah Perdana PS Teknik Informatika Semester Genap 2023/2024</td>\n",
              "      <td id=\"T_b914e_row5_col1\" class=\"data row5 col1\" >February 22, 2024</td>\n",
              "      <td id=\"T_b914e_row5_col2\" class=\"data row5 col2\" >Minggu ini adalah pekan pertama kegiatan perkuliahan semester genap tahun akademik 2023/2024, kegiatan perkuliahan tatap muka diselenggarakan secara langsung/offline berlangsung\n",
              "Read more</td>\n",
              "    </tr>\n",
              "    <tr>\n",
              "      <td id=\"T_b914e_row6_col0\" class=\"data row6 col0\" >Pelatihan Flutter & Laravel Program Studi Teknik Informatika Unila</td>\n",
              "      <td id=\"T_b914e_row6_col1\" class=\"data row6 col1\" >February 14, 2024</td>\n",
              "      <td id=\"T_b914e_row6_col2\" class=\"data row6 col2\" >Pelatihan Flutter & Laravel merupakan pelatihan yang bertujuan untuk melatih mahasiswa mengenai pembuatan sebuah aplikasi menggunakan framework Flutter dan Laravel.\n",
              "Read more</td>\n",
              "    </tr>\n",
              "    <tr>\n",
              "      <td id=\"T_b914e_row7_col0\" class=\"data row7 col0\" >Arsip Mahasiswa Kompre Ganjil 2023/2024</td>\n",
              "      <td id=\"T_b914e_row7_col1\" class=\"data row7 col1\" >February 12, 2024</td>\n",
              "      <td id=\"T_b914e_row7_col2\" class=\"data row7 col2\" >Read more</td>\n",
              "    </tr>\n",
              "    <tr>\n",
              "      <td id=\"T_b914e_row8_col0\" class=\"data row8 col0\" >Kegiatan Pengabdian Kepada Masyarakat di SMAN 1 Kalianda Lampung Selatan</td>\n",
              "      <td id=\"T_b914e_row8_col1\" class=\"data row8 col1\" >September 14, 2023</td>\n",
              "      <td id=\"T_b914e_row8_col2\" class=\"data row8 col2\" >ada tanggal 8 September 2023, berlangsung kegiatan pengabdian kepada masyarakat yang mengusung tema “Peningkatan Kemampuan Penerapan Algoritma Komputer Peserta Didik\n",
              "Read more</td>\n",
              "    </tr>\n",
              "  </tbody>\n",
              "</table>\n"
            ]
          },
          "metadata": {},
          "execution_count": 42
        }
      ]
    },
    {
      "cell_type": "markdown",
      "source": [
        "Mengeksport Hasil Data ke dalam bentuk csv"
      ],
      "metadata": {
        "id": "2BWpwpEn3BHh"
      }
    },
    {
      "cell_type": "code",
      "source": [
        "df.to_csv('berita_if_unila.csv', index=False)"
      ],
      "metadata": {
        "id": "3QODdNh13BvN"
      },
      "execution_count": null,
      "outputs": []
    }
  ]
}